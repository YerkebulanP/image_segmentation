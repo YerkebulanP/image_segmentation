{
  "nbformat": 4,
  "nbformat_minor": 0,
  "metadata": {
    "colab": {
      "name": "BTS_Digital.ipynb",
      "provenance": [],
      "collapsed_sections": []
    },
    "kernelspec": {
      "name": "python3",
      "display_name": "Python 3"
    },
    "language_info": {
      "name": "python"
    }
  },
  "cells": [
    {
      "cell_type": "markdown",
      "source": [
        "1. Загружаем все необходимые библиотеки для работы"
      ],
      "metadata": {
        "id": "f5X6w_-ZjTof"
      }
    },
    {
      "cell_type": "code",
      "execution_count": 1,
      "metadata": {
        "id": "gUw6C13gZE--",
        "colab": {
          "base_uri": "https://localhost:8080/"
        },
        "outputId": "01883bef-49d0-416a-d4d3-3156e807d902"
      },
      "outputs": [
        {
          "output_type": "stream",
          "name": "stdout",
          "text": [
            "Segmentation Models: using `keras` framework.\n"
          ]
        }
      ],
      "source": [
        "import seaborn as sns\n",
        "import pandas as pd\n",
        "import numpy as np\n",
        "import matplotlib.pyplot as plt\n",
        "\n",
        "import os\n",
        "import cv2\n",
        "import glob\n",
        "import tensorflow\n",
        "import keras\n",
        "\n",
        "from tensorflow.keras.utils import normalize\n",
        "from sklearn.model_selection import train_test_split\n",
        "import segmentation_models as sm"
      ]
    },
    {
      "cell_type": "markdown",
      "source": [
        "2. Загружаем необходимые файлы для тренировки и для тестирования модели"
      ],
      "metadata": {
        "id": "FWkosCnija3O"
      }
    },
    {
      "cell_type": "code",
      "source": [
        "from google.colab import drive\n",
        "drive.mount('/content/drive/')\n",
        "#!unzip drive/My\\ Drive/AITU/train.zip\n",
        "#!unzip drive/My\\ Drive/AITU/test.zip"
      ],
      "metadata": {
        "colab": {
          "base_uri": "https://localhost:8080/"
        },
        "id": "iq3AXhTNZTQb",
        "outputId": "10363e29-f1f7-4b75-f787-f1813d56e40a"
      },
      "execution_count": 2,
      "outputs": [
        {
          "output_type": "stream",
          "name": "stdout",
          "text": [
            "Drive already mounted at /content/drive/; to attempt to forcibly remount, call drive.mount(\"/content/drive/\", force_remount=True).\n"
          ]
        }
      ]
    },
    {
      "cell_type": "markdown",
      "source": [
        "3. Получаем с исходного файла все рисунки и маски для дальнейшего использования"
      ],
      "metadata": {
        "id": "uQyrzbPujqM3"
      }
    },
    {
      "cell_type": "code",
      "source": [
        "SIZE = 256\n",
        "image_dataset = []   \n",
        "mask_dataset = []  \n",
        "\n",
        "directory_path = glob.glob(r'dataset/imgs')[0]\n",
        "for image_path in glob.glob(os.path.join(directory_path, \"*.jpg\")):\n",
        "    image = cv2.imread(image_path, cv2.IMREAD_COLOR)\n",
        "    image = cv2.resize(image, (SIZE, SIZE))\n",
        "    image_dataset.append(image) \n",
        "image_dataset = np.array(image_dataset)\n",
        "\n",
        "\n",
        "directory_path = glob.glob(r'dataset/masks')[0]\n",
        "for image_path in glob.glob(os.path.join(directory_path, \"*.png\")):\n",
        "    image = cv2.imread(image_path, cv2.IMREAD_GRAYSCALE)\n",
        "    image = cv2.resize(image, (SIZE, SIZE))\n",
        "    mask_dataset.append(image) \n",
        "mask_dataset = np.array(mask_dataset)"
      ],
      "metadata": {
        "id": "7k6_5mK2fmlc"
      },
      "execution_count": 3,
      "outputs": []
    },
    {
      "cell_type": "markdown",
      "source": [
        "4. Нормализируем датасет с рисунками, а для масок делаем rescaling. Затем делим даннные на трэйн и тест сплиты\n"
      ],
      "metadata": {
        "id": "KA3ze6W2jz2Z"
      }
    },
    {
      "cell_type": "code",
      "source": [
        "image_dataset = normalize(image_dataset)\n",
        "mask_dataset = np.expand_dims(mask_dataset, axis=3)/255\n",
        "\n",
        "X_train, X_test, y_train, y_test = train_test_split(image_dataset, mask_dataset, test_size=0.2, random_state=0)"
      ],
      "metadata": {
        "id": "bATLCeRqf41N"
      },
      "execution_count": 4,
      "outputs": []
    },
    {
      "cell_type": "markdown",
      "source": [
        "5. Настройка модели"
      ],
      "metadata": {
        "id": "PdMK3l1jkGq6"
      }
    },
    {
      "cell_type": "code",
      "source": [
        "sm.set_framework('tf.keras')\n",
        "model = sm.Unet('resnet34',  encoder_weights='imagenet')\n",
        "model.compile(optimizer='adam', loss='binary_crossentropy', metrics=['accuracy'])\n",
        "model.fit(X_train, y_train, \n",
        "                    batch_size = 16, \n",
        "                    verbose=1, \n",
        "                    epochs=5, \n",
        "                    validation_data=(X_test, y_test), \n",
        "                    shuffle=False)\n"
      ],
      "metadata": {
        "colab": {
          "base_uri": "https://localhost:8080/"
        },
        "id": "UVn5R9Lsf8Vv",
        "outputId": "cf06c36a-66e9-4fdc-9b94-708b4f40a346"
      },
      "execution_count": 5,
      "outputs": [
        {
          "output_type": "stream",
          "name": "stdout",
          "text": [
            "Epoch 1/5\n",
            "12/12 [==============================] - 292s 24s/step - loss: 0.6904 - accuracy: 0.6834 - val_loss: 0.3529 - val_accuracy: 0.9750\n",
            "Epoch 2/5\n",
            "12/12 [==============================] - 275s 23s/step - loss: 0.4055 - accuracy: 0.9724 - val_loss: 1.0640 - val_accuracy: 0.9761\n",
            "Epoch 3/5\n",
            "12/12 [==============================] - 283s 23s/step - loss: 0.2887 - accuracy: 0.9750 - val_loss: 1.8850 - val_accuracy: 0.9764\n",
            "Epoch 4/5\n",
            "12/12 [==============================] - 278s 23s/step - loss: 0.2139 - accuracy: 0.9759 - val_loss: 0.8883 - val_accuracy: 0.9764\n",
            "Epoch 5/5\n",
            "12/12 [==============================] - 277s 23s/step - loss: 0.1667 - accuracy: 0.9759 - val_loss: 0.2825 - val_accuracy: 0.9764\n"
          ]
        },
        {
          "output_type": "execute_result",
          "data": {
            "text/plain": [
              "<keras.callbacks.History at 0x7fdffd334750>"
            ]
          },
          "metadata": {},
          "execution_count": 5
        }
      ]
    },
    {
      "cell_type": "code",
      "source": [
        "# Сохраняем полученную модель\n",
        "model.save('segmentation_model')"
      ],
      "metadata": {
        "colab": {
          "base_uri": "https://localhost:8080/"
        },
        "id": "Z6kD41EMlrFo",
        "outputId": "afcb5f24-d415-4849-da70-5124b36e632e"
      },
      "execution_count": 6,
      "outputs": [
        {
          "output_type": "stream",
          "name": "stdout",
          "text": [
            "INFO:tensorflow:Assets written to: segmentation_model/assets\n"
          ]
        }
      ]
    },
    {
      "cell_type": "markdown",
      "source": [
        "6. Загружаем и открываем тестируемые данные"
      ],
      "metadata": {
        "id": "THBMSuz9k3SB"
      }
    },
    {
      "cell_type": "code",
      "source": [
        "test_dataset = []  \n",
        "\n",
        "test_path = glob.glob(r'imgs')[0]\n",
        "for image_path in glob.glob(os.path.join(test_path, \"*.jpg\")):\n",
        "    image = cv2.imread(image_path, cv2.IMREAD_COLOR)\n",
        "    image = cv2.resize(image, (SIZE, SIZE))\n",
        "    test_dataset.append(image) \n",
        "\n",
        "test_dataset = np.array(test_dataset)"
      ],
      "metadata": {
        "id": "IYM1MXnQ_Hji"
      },
      "execution_count": 11,
      "outputs": []
    },
    {
      "cell_type": "markdown",
      "source": [
        "7. Нормализуем для получения лучшего результата"
      ],
      "metadata": {
        "id": "_JaV57LllAXa"
      }
    },
    {
      "cell_type": "code",
      "source": [
        "test_dataset = np.expand_dims(normalize(test_dataset), 3)"
      ],
      "metadata": {
        "id": "0qfK7xSb_uyS"
      },
      "execution_count": 12,
      "outputs": []
    },
    {
      "cell_type": "markdown",
      "source": [
        "8. Делаем предсказания для каждого рисунка в test_dataset"
      ],
      "metadata": {
        "id": "aFYQr7XhlJxG"
      }
    },
    {
      "cell_type": "code",
      "source": [
        "for i in range(len(test_dataset)):     \n",
        "    test_img = cv2.resize(test_dataset[i], (256,256),cv2.IMREAD_COLOR)\n",
        "    test_img = np.array(test_img, dtype=np.uint8)\n",
        "    test_img = cv2.cvtColor(test_img, cv2.COLOR_RGB2BGR)\n",
        "    test_img = np.expand_dims(test_img, axis=0)\n",
        "    prediction = model.predict(test_img)\n",
        "    prediction_image = prediction.reshape((256,256))\n",
        "    image_name = 'Image0' + str(int(161) + i)+'.png'"
      ],
      "metadata": {
        "id": "E7nBmn6aCVnG"
      },
      "execution_count": 19,
      "outputs": []
    },
    {
      "cell_type": "code",
      "source": [
        "plt.imsave(image_name, prediction_image, cmap='gray')"
      ],
      "metadata": {
        "id": "EVtBb_TOpW6I"
      },
      "execution_count": 20,
      "outputs": []
    },
    {
      "cell_type": "markdown",
      "source": [
        "# Новый раздел"
      ],
      "metadata": {
        "id": "5OZJSn_oGoTj"
      }
    },
    {
      "cell_type": "markdown",
      "source": [
        "# Новый раздел"
      ],
      "metadata": {
        "id": "CvD3nZt2GobQ"
      }
    },
    {
      "cell_type": "markdown",
      "source": [
        "# Новый раздел"
      ],
      "metadata": {
        "id": "IFaBXk0mGox4"
      }
    }
  ]
}